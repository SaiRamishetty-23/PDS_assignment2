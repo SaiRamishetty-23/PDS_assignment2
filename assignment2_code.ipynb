{
 "cells": [
  {
   "cell_type": "code",
   "execution_count": 1,
   "metadata": {},
   "outputs": [],
   "source": [
    "#Data preparation"
   ]
  },
  {
   "cell_type": "code",
   "execution_count": 2,
   "metadata": {},
   "outputs": [],
   "source": [
    "#importing necessary packages\n",
    "import pandas as pd\n",
    "import matplotlib.pyplot as plt\n",
    "import numpy as np\n",
    "import matplotlib\n",
    "%matplotlib inline\n",
    "import seaborn as sns\n",
    "from sklearn.model_selection import train_test_split\n",
    "from sklearn.neighbors import KNeighborsClassifier\n",
    "from sklearn.metrics import confusion_matrix\n",
    "from sklearn.metrics import classification_report\n",
    "from sklearn import preprocessing\n",
    "from sklearn import model_selection\n",
    "from sklearn.linear_model import LogisticRegression\n",
    "from sklearn.model_selection import cross_val_score\n",
    "from sklearn.model_selection import KFold\n",
    "from sklearn.model_selection import LeaveOneOut\n",
    "from numpy import mean\n",
    "from numpy import absolute\n",
    "from sklearn.linear_model import LinearRegression\n",
    "from sklearn.model_selection import GridSearchCV"
   ]
  },
  {
   "cell_type": "code",
   "execution_count": 3,
   "metadata": {},
   "outputs": [],
   "source": [
    "clinical_records = pd.read_csv(\"heart_failure_clinical_records_dataset.csv\", error_bad_lines=False)"
   ]
  },
  {
   "cell_type": "code",
   "execution_count": 4,
   "metadata": {},
   "outputs": [
    {
     "data": {
      "text/html": [
       "<div>\n",
       "<style scoped>\n",
       "    .dataframe tbody tr th:only-of-type {\n",
       "        vertical-align: middle;\n",
       "    }\n",
       "\n",
       "    .dataframe tbody tr th {\n",
       "        vertical-align: top;\n",
       "    }\n",
       "\n",
       "    .dataframe thead th {\n",
       "        text-align: right;\n",
       "    }\n",
       "</style>\n",
       "<table border=\"1\" class=\"dataframe\">\n",
       "  <thead>\n",
       "    <tr style=\"text-align: right;\">\n",
       "      <th></th>\n",
       "      <th>age</th>\n",
       "      <th>anaemia</th>\n",
       "      <th>creatinine_phosphokinase</th>\n",
       "      <th>diabetes</th>\n",
       "      <th>ejection_fraction</th>\n",
       "      <th>high_blood_pressure</th>\n",
       "      <th>platelets</th>\n",
       "      <th>serum_creatinine</th>\n",
       "      <th>serum_sodium</th>\n",
       "      <th>sex</th>\n",
       "      <th>smoking</th>\n",
       "      <th>time</th>\n",
       "      <th>DEATH_EVENT</th>\n",
       "    </tr>\n",
       "  </thead>\n",
       "  <tbody>\n",
       "    <tr>\n",
       "      <th>0</th>\n",
       "      <td>75.0</td>\n",
       "      <td>0</td>\n",
       "      <td>582</td>\n",
       "      <td>0</td>\n",
       "      <td>20</td>\n",
       "      <td>1</td>\n",
       "      <td>265000.00</td>\n",
       "      <td>1.9</td>\n",
       "      <td>130</td>\n",
       "      <td>1</td>\n",
       "      <td>0</td>\n",
       "      <td>4</td>\n",
       "      <td>1</td>\n",
       "    </tr>\n",
       "    <tr>\n",
       "      <th>1</th>\n",
       "      <td>55.0</td>\n",
       "      <td>0</td>\n",
       "      <td>7861</td>\n",
       "      <td>0</td>\n",
       "      <td>38</td>\n",
       "      <td>0</td>\n",
       "      <td>263358.03</td>\n",
       "      <td>1.1</td>\n",
       "      <td>136</td>\n",
       "      <td>1</td>\n",
       "      <td>0</td>\n",
       "      <td>6</td>\n",
       "      <td>1</td>\n",
       "    </tr>\n",
       "    <tr>\n",
       "      <th>2</th>\n",
       "      <td>65.0</td>\n",
       "      <td>0</td>\n",
       "      <td>146</td>\n",
       "      <td>0</td>\n",
       "      <td>20</td>\n",
       "      <td>0</td>\n",
       "      <td>162000.00</td>\n",
       "      <td>1.3</td>\n",
       "      <td>129</td>\n",
       "      <td>1</td>\n",
       "      <td>1</td>\n",
       "      <td>7</td>\n",
       "      <td>1</td>\n",
       "    </tr>\n",
       "    <tr>\n",
       "      <th>3</th>\n",
       "      <td>50.0</td>\n",
       "      <td>1</td>\n",
       "      <td>111</td>\n",
       "      <td>0</td>\n",
       "      <td>20</td>\n",
       "      <td>0</td>\n",
       "      <td>210000.00</td>\n",
       "      <td>1.9</td>\n",
       "      <td>137</td>\n",
       "      <td>1</td>\n",
       "      <td>0</td>\n",
       "      <td>7</td>\n",
       "      <td>1</td>\n",
       "    </tr>\n",
       "    <tr>\n",
       "      <th>4</th>\n",
       "      <td>65.0</td>\n",
       "      <td>1</td>\n",
       "      <td>160</td>\n",
       "      <td>1</td>\n",
       "      <td>20</td>\n",
       "      <td>0</td>\n",
       "      <td>327000.00</td>\n",
       "      <td>2.7</td>\n",
       "      <td>116</td>\n",
       "      <td>0</td>\n",
       "      <td>0</td>\n",
       "      <td>8</td>\n",
       "      <td>1</td>\n",
       "    </tr>\n",
       "    <tr>\n",
       "      <th>5</th>\n",
       "      <td>90.0</td>\n",
       "      <td>1</td>\n",
       "      <td>47</td>\n",
       "      <td>0</td>\n",
       "      <td>40</td>\n",
       "      <td>1</td>\n",
       "      <td>204000.00</td>\n",
       "      <td>2.1</td>\n",
       "      <td>132</td>\n",
       "      <td>1</td>\n",
       "      <td>1</td>\n",
       "      <td>8</td>\n",
       "      <td>1</td>\n",
       "    </tr>\n",
       "    <tr>\n",
       "      <th>6</th>\n",
       "      <td>75.0</td>\n",
       "      <td>1</td>\n",
       "      <td>246</td>\n",
       "      <td>0</td>\n",
       "      <td>15</td>\n",
       "      <td>0</td>\n",
       "      <td>127000.00</td>\n",
       "      <td>1.2</td>\n",
       "      <td>137</td>\n",
       "      <td>1</td>\n",
       "      <td>0</td>\n",
       "      <td>10</td>\n",
       "      <td>1</td>\n",
       "    </tr>\n",
       "    <tr>\n",
       "      <th>7</th>\n",
       "      <td>60.0</td>\n",
       "      <td>1</td>\n",
       "      <td>315</td>\n",
       "      <td>1</td>\n",
       "      <td>60</td>\n",
       "      <td>0</td>\n",
       "      <td>454000.00</td>\n",
       "      <td>1.1</td>\n",
       "      <td>131</td>\n",
       "      <td>1</td>\n",
       "      <td>1</td>\n",
       "      <td>10</td>\n",
       "      <td>1</td>\n",
       "    </tr>\n",
       "    <tr>\n",
       "      <th>8</th>\n",
       "      <td>65.0</td>\n",
       "      <td>0</td>\n",
       "      <td>157</td>\n",
       "      <td>0</td>\n",
       "      <td>65</td>\n",
       "      <td>0</td>\n",
       "      <td>263358.03</td>\n",
       "      <td>1.5</td>\n",
       "      <td>138</td>\n",
       "      <td>0</td>\n",
       "      <td>0</td>\n",
       "      <td>10</td>\n",
       "      <td>1</td>\n",
       "    </tr>\n",
       "    <tr>\n",
       "      <th>9</th>\n",
       "      <td>80.0</td>\n",
       "      <td>1</td>\n",
       "      <td>123</td>\n",
       "      <td>0</td>\n",
       "      <td>35</td>\n",
       "      <td>1</td>\n",
       "      <td>388000.00</td>\n",
       "      <td>9.4</td>\n",
       "      <td>133</td>\n",
       "      <td>1</td>\n",
       "      <td>1</td>\n",
       "      <td>10</td>\n",
       "      <td>1</td>\n",
       "    </tr>\n",
       "  </tbody>\n",
       "</table>\n",
       "</div>"
      ],
      "text/plain": [
       "    age  anaemia  creatinine_phosphokinase  diabetes  ejection_fraction  \\\n",
       "0  75.0        0                       582         0                 20   \n",
       "1  55.0        0                      7861         0                 38   \n",
       "2  65.0        0                       146         0                 20   \n",
       "3  50.0        1                       111         0                 20   \n",
       "4  65.0        1                       160         1                 20   \n",
       "5  90.0        1                        47         0                 40   \n",
       "6  75.0        1                       246         0                 15   \n",
       "7  60.0        1                       315         1                 60   \n",
       "8  65.0        0                       157         0                 65   \n",
       "9  80.0        1                       123         0                 35   \n",
       "\n",
       "   high_blood_pressure  platelets  serum_creatinine  serum_sodium  sex  \\\n",
       "0                    1  265000.00               1.9           130    1   \n",
       "1                    0  263358.03               1.1           136    1   \n",
       "2                    0  162000.00               1.3           129    1   \n",
       "3                    0  210000.00               1.9           137    1   \n",
       "4                    0  327000.00               2.7           116    0   \n",
       "5                    1  204000.00               2.1           132    1   \n",
       "6                    0  127000.00               1.2           137    1   \n",
       "7                    0  454000.00               1.1           131    1   \n",
       "8                    0  263358.03               1.5           138    0   \n",
       "9                    1  388000.00               9.4           133    1   \n",
       "\n",
       "   smoking  time  DEATH_EVENT  \n",
       "0        0     4            1  \n",
       "1        0     6            1  \n",
       "2        1     7            1  \n",
       "3        0     7            1  \n",
       "4        0     8            1  \n",
       "5        1     8            1  \n",
       "6        0    10            1  \n",
       "7        1    10            1  \n",
       "8        0    10            1  \n",
       "9        1    10            1  "
      ]
     },
     "execution_count": 4,
     "metadata": {},
     "output_type": "execute_result"
    }
   ],
   "source": [
    "clinical_records.head(10)"
   ]
  },
  {
   "cell_type": "code",
   "execution_count": 5,
   "metadata": {},
   "outputs": [
    {
     "data": {
      "text/plain": [
       "(299, 13)"
      ]
     },
     "execution_count": 5,
     "metadata": {},
     "output_type": "execute_result"
    }
   ],
   "source": [
    "clinical_records.shape"
   ]
  },
  {
   "cell_type": "code",
   "execution_count": 6,
   "metadata": {},
   "outputs": [
    {
     "data": {
      "text/plain": [
       "age                         float64\n",
       "anaemia                       int64\n",
       "creatinine_phosphokinase      int64\n",
       "diabetes                      int64\n",
       "ejection_fraction             int64\n",
       "high_blood_pressure           int64\n",
       "platelets                   float64\n",
       "serum_creatinine            float64\n",
       "serum_sodium                  int64\n",
       "sex                           int64\n",
       "smoking                       int64\n",
       "time                          int64\n",
       "DEATH_EVENT                   int64\n",
       "dtype: object"
      ]
     },
     "execution_count": 6,
     "metadata": {},
     "output_type": "execute_result"
    }
   ],
   "source": [
    "clinical_records.dtypes"
   ]
  },
  {
   "cell_type": "code",
   "execution_count": 7,
   "metadata": {},
   "outputs": [
    {
     "data": {
      "text/html": [
       "<div>\n",
       "<style scoped>\n",
       "    .dataframe tbody tr th:only-of-type {\n",
       "        vertical-align: middle;\n",
       "    }\n",
       "\n",
       "    .dataframe tbody tr th {\n",
       "        vertical-align: top;\n",
       "    }\n",
       "\n",
       "    .dataframe thead th {\n",
       "        text-align: right;\n",
       "    }\n",
       "</style>\n",
       "<table border=\"1\" class=\"dataframe\">\n",
       "  <thead>\n",
       "    <tr style=\"text-align: right;\">\n",
       "      <th></th>\n",
       "      <th>age</th>\n",
       "      <th>anaemia</th>\n",
       "      <th>creatinine_phosphokinase</th>\n",
       "      <th>diabetes</th>\n",
       "      <th>ejection_fraction</th>\n",
       "      <th>high_blood_pressure</th>\n",
       "      <th>platelets</th>\n",
       "      <th>serum_creatinine</th>\n",
       "      <th>serum_sodium</th>\n",
       "      <th>sex</th>\n",
       "      <th>smoking</th>\n",
       "      <th>time</th>\n",
       "      <th>DEATH_EVENT</th>\n",
       "    </tr>\n",
       "  </thead>\n",
       "  <tbody>\n",
       "    <tr>\n",
       "      <th>count</th>\n",
       "      <td>299.000000</td>\n",
       "      <td>299.000000</td>\n",
       "      <td>299.000000</td>\n",
       "      <td>299.000000</td>\n",
       "      <td>299.000000</td>\n",
       "      <td>299.000000</td>\n",
       "      <td>299.000000</td>\n",
       "      <td>299.00000</td>\n",
       "      <td>299.000000</td>\n",
       "      <td>299.000000</td>\n",
       "      <td>299.00000</td>\n",
       "      <td>299.000000</td>\n",
       "      <td>299.00000</td>\n",
       "    </tr>\n",
       "    <tr>\n",
       "      <th>mean</th>\n",
       "      <td>60.833893</td>\n",
       "      <td>0.431438</td>\n",
       "      <td>581.839465</td>\n",
       "      <td>0.418060</td>\n",
       "      <td>38.083612</td>\n",
       "      <td>0.351171</td>\n",
       "      <td>263358.029264</td>\n",
       "      <td>1.39388</td>\n",
       "      <td>136.625418</td>\n",
       "      <td>0.648829</td>\n",
       "      <td>0.32107</td>\n",
       "      <td>130.260870</td>\n",
       "      <td>0.32107</td>\n",
       "    </tr>\n",
       "    <tr>\n",
       "      <th>std</th>\n",
       "      <td>11.894809</td>\n",
       "      <td>0.496107</td>\n",
       "      <td>970.287881</td>\n",
       "      <td>0.494067</td>\n",
       "      <td>11.834841</td>\n",
       "      <td>0.478136</td>\n",
       "      <td>97804.236869</td>\n",
       "      <td>1.03451</td>\n",
       "      <td>4.412477</td>\n",
       "      <td>0.478136</td>\n",
       "      <td>0.46767</td>\n",
       "      <td>77.614208</td>\n",
       "      <td>0.46767</td>\n",
       "    </tr>\n",
       "    <tr>\n",
       "      <th>min</th>\n",
       "      <td>40.000000</td>\n",
       "      <td>0.000000</td>\n",
       "      <td>23.000000</td>\n",
       "      <td>0.000000</td>\n",
       "      <td>14.000000</td>\n",
       "      <td>0.000000</td>\n",
       "      <td>25100.000000</td>\n",
       "      <td>0.50000</td>\n",
       "      <td>113.000000</td>\n",
       "      <td>0.000000</td>\n",
       "      <td>0.00000</td>\n",
       "      <td>4.000000</td>\n",
       "      <td>0.00000</td>\n",
       "    </tr>\n",
       "    <tr>\n",
       "      <th>25%</th>\n",
       "      <td>51.000000</td>\n",
       "      <td>0.000000</td>\n",
       "      <td>116.500000</td>\n",
       "      <td>0.000000</td>\n",
       "      <td>30.000000</td>\n",
       "      <td>0.000000</td>\n",
       "      <td>212500.000000</td>\n",
       "      <td>0.90000</td>\n",
       "      <td>134.000000</td>\n",
       "      <td>0.000000</td>\n",
       "      <td>0.00000</td>\n",
       "      <td>73.000000</td>\n",
       "      <td>0.00000</td>\n",
       "    </tr>\n",
       "    <tr>\n",
       "      <th>50%</th>\n",
       "      <td>60.000000</td>\n",
       "      <td>0.000000</td>\n",
       "      <td>250.000000</td>\n",
       "      <td>0.000000</td>\n",
       "      <td>38.000000</td>\n",
       "      <td>0.000000</td>\n",
       "      <td>262000.000000</td>\n",
       "      <td>1.10000</td>\n",
       "      <td>137.000000</td>\n",
       "      <td>1.000000</td>\n",
       "      <td>0.00000</td>\n",
       "      <td>115.000000</td>\n",
       "      <td>0.00000</td>\n",
       "    </tr>\n",
       "    <tr>\n",
       "      <th>75%</th>\n",
       "      <td>70.000000</td>\n",
       "      <td>1.000000</td>\n",
       "      <td>582.000000</td>\n",
       "      <td>1.000000</td>\n",
       "      <td>45.000000</td>\n",
       "      <td>1.000000</td>\n",
       "      <td>303500.000000</td>\n",
       "      <td>1.40000</td>\n",
       "      <td>140.000000</td>\n",
       "      <td>1.000000</td>\n",
       "      <td>1.00000</td>\n",
       "      <td>203.000000</td>\n",
       "      <td>1.00000</td>\n",
       "    </tr>\n",
       "    <tr>\n",
       "      <th>max</th>\n",
       "      <td>95.000000</td>\n",
       "      <td>1.000000</td>\n",
       "      <td>7861.000000</td>\n",
       "      <td>1.000000</td>\n",
       "      <td>80.000000</td>\n",
       "      <td>1.000000</td>\n",
       "      <td>850000.000000</td>\n",
       "      <td>9.40000</td>\n",
       "      <td>148.000000</td>\n",
       "      <td>1.000000</td>\n",
       "      <td>1.00000</td>\n",
       "      <td>285.000000</td>\n",
       "      <td>1.00000</td>\n",
       "    </tr>\n",
       "  </tbody>\n",
       "</table>\n",
       "</div>"
      ],
      "text/plain": [
       "              age     anaemia  creatinine_phosphokinase    diabetes  \\\n",
       "count  299.000000  299.000000                299.000000  299.000000   \n",
       "mean    60.833893    0.431438                581.839465    0.418060   \n",
       "std     11.894809    0.496107                970.287881    0.494067   \n",
       "min     40.000000    0.000000                 23.000000    0.000000   \n",
       "25%     51.000000    0.000000                116.500000    0.000000   \n",
       "50%     60.000000    0.000000                250.000000    0.000000   \n",
       "75%     70.000000    1.000000                582.000000    1.000000   \n",
       "max     95.000000    1.000000               7861.000000    1.000000   \n",
       "\n",
       "       ejection_fraction  high_blood_pressure      platelets  \\\n",
       "count         299.000000           299.000000     299.000000   \n",
       "mean           38.083612             0.351171  263358.029264   \n",
       "std            11.834841             0.478136   97804.236869   \n",
       "min            14.000000             0.000000   25100.000000   \n",
       "25%            30.000000             0.000000  212500.000000   \n",
       "50%            38.000000             0.000000  262000.000000   \n",
       "75%            45.000000             1.000000  303500.000000   \n",
       "max            80.000000             1.000000  850000.000000   \n",
       "\n",
       "       serum_creatinine  serum_sodium         sex    smoking        time  \\\n",
       "count         299.00000    299.000000  299.000000  299.00000  299.000000   \n",
       "mean            1.39388    136.625418    0.648829    0.32107  130.260870   \n",
       "std             1.03451      4.412477    0.478136    0.46767   77.614208   \n",
       "min             0.50000    113.000000    0.000000    0.00000    4.000000   \n",
       "25%             0.90000    134.000000    0.000000    0.00000   73.000000   \n",
       "50%             1.10000    137.000000    1.000000    0.00000  115.000000   \n",
       "75%             1.40000    140.000000    1.000000    1.00000  203.000000   \n",
       "max             9.40000    148.000000    1.000000    1.00000  285.000000   \n",
       "\n",
       "       DEATH_EVENT  \n",
       "count    299.00000  \n",
       "mean       0.32107  \n",
       "std        0.46767  \n",
       "min        0.00000  \n",
       "25%        0.00000  \n",
       "50%        0.00000  \n",
       "75%        1.00000  \n",
       "max        1.00000  "
      ]
     },
     "execution_count": 7,
     "metadata": {},
     "output_type": "execute_result"
    }
   ],
   "source": [
    "clinical_records.describe()\n",
    "#creatinine_phosphokinase, platelets, serum_creatinine and serum_sodium need more investigation as max values look too high\n",
    "#age and time looks fine since minimum and maximum age looks accurate"
   ]
  },
  {
   "cell_type": "code",
   "execution_count": 8,
   "metadata": {},
   "outputs": [
    {
     "data": {
      "text/plain": [
       "age                         False\n",
       "anaemia                     False\n",
       "creatinine_phosphokinase    False\n",
       "diabetes                    False\n",
       "ejection_fraction           False\n",
       "high_blood_pressure         False\n",
       "platelets                   False\n",
       "serum_creatinine            False\n",
       "serum_sodium                False\n",
       "sex                         False\n",
       "smoking                     False\n",
       "time                        False\n",
       "DEATH_EVENT                 False\n",
       "dtype: bool"
      ]
     },
     "execution_count": 8,
     "metadata": {},
     "output_type": "execute_result"
    }
   ],
   "source": [
    "#checking for null values\n",
    "clinical_records.isnull().any()"
   ]
  },
  {
   "cell_type": "code",
   "execution_count": 9,
   "metadata": {},
   "outputs": [
    {
     "data": {
      "text/plain": [
       "0    203\n",
       "1     96\n",
       "Name: DEATH_EVENT, dtype: int64"
      ]
     },
     "execution_count": 9,
     "metadata": {},
     "output_type": "execute_result"
    }
   ],
   "source": [
    "#checking if there are different values\n",
    "clinical_records['DEATH_EVENT'].value_counts()"
   ]
  },
  {
   "cell_type": "code",
   "execution_count": 10,
   "metadata": {},
   "outputs": [
    {
     "data": {
      "text/plain": [
       "1    194\n",
       "0    105\n",
       "Name: sex, dtype: int64"
      ]
     },
     "execution_count": 10,
     "metadata": {},
     "output_type": "execute_result"
    }
   ],
   "source": [
    "clinical_records['sex'].value_counts()"
   ]
  },
  {
   "cell_type": "code",
   "execution_count": 11,
   "metadata": {},
   "outputs": [
    {
     "data": {
      "text/plain": [
       "0    170\n",
       "1    129\n",
       "Name: anaemia, dtype: int64"
      ]
     },
     "execution_count": 11,
     "metadata": {},
     "output_type": "execute_result"
    }
   ],
   "source": [
    "clinical_records['anaemia'].value_counts()"
   ]
  },
  {
   "cell_type": "code",
   "execution_count": 12,
   "metadata": {},
   "outputs": [
    {
     "data": {
      "text/plain": [
       "0    174\n",
       "1    125\n",
       "Name: diabetes, dtype: int64"
      ]
     },
     "execution_count": 12,
     "metadata": {},
     "output_type": "execute_result"
    }
   ],
   "source": [
    "clinical_records['diabetes'].value_counts()"
   ]
  },
  {
   "cell_type": "code",
   "execution_count": 13,
   "metadata": {},
   "outputs": [
    {
     "data": {
      "text/plain": [
       "0    194\n",
       "1    105\n",
       "Name: high_blood_pressure, dtype: int64"
      ]
     },
     "execution_count": 13,
     "metadata": {},
     "output_type": "execute_result"
    }
   ],
   "source": [
    "clinical_records['high_blood_pressure'].value_counts()"
   ]
  },
  {
   "cell_type": "code",
   "execution_count": 14,
   "metadata": {},
   "outputs": [
    {
     "data": {
      "text/plain": [
       "0    203\n",
       "1     96\n",
       "Name: smoking, dtype: int64"
      ]
     },
     "execution_count": 14,
     "metadata": {},
     "output_type": "execute_result"
    }
   ],
   "source": [
    "clinical_records['smoking'].value_counts()"
   ]
  },
  {
   "cell_type": "code",
   "execution_count": 15,
   "metadata": {},
   "outputs": [
    {
     "data": {
      "text/plain": [
       "array([7861, 2656, 1380, 3964, 7702, 5882, 5209, 1876, 1808, 4540, 1548,\n",
       "       1610, 2261, 1846, 2334, 2442, 3966, 1419, 1896, 1767, 2281, 2794,\n",
       "       2017, 2522, 2695, 1688, 1820, 2060, 2413])"
      ]
     },
     "execution_count": 15,
     "metadata": {},
     "output_type": "execute_result"
    }
   ],
   "source": [
    "#Investigating Creatinine Phosphokinase\n",
    "CP_data = clinical_records['creatinine_phosphokinase']\n",
    "Q1 = CP_data.quantile(0.25)\n",
    "Q3 = CP_data.quantile(0.75)\n",
    "IQR = Q3-Q1\n",
    "min_whisker = Q1-(IQR*1.5)\n",
    "max_whisker = Q3 +(IQR*1.5)\n",
    "outliers = CP_data[(CP_data<min_whisker)|(CP_data>max_whisker)]\n",
    "outliers.values\n",
    "#We can't assume these values to be impossible or invalid outliers as according to \n",
    "#https://www.mountsinai.org/health-library/tests/creatine-phosphokinase-test, there are possibilities for abnormal values\n",
    "#Therefore, there is no justification to remove these values. We can instead use it for our analysis"
   ]
  },
  {
   "cell_type": "code",
   "execution_count": 16,
   "metadata": {},
   "outputs": [
    {
     "data": {
      "text/plain": [
       "array([454000.,  47000., 451000., 461000., 497000., 621000., 850000.,\n",
       "       507000., 448000.,  75000.,  70000.,  73000., 481000., 504000.,\n",
       "        62000., 533000.,  25100., 451000.,  51000., 543000., 742000.])"
      ]
     },
     "execution_count": 16,
     "metadata": {},
     "output_type": "execute_result"
    }
   ],
   "source": [
    "#Investigating Platelets\n",
    "P_data = clinical_records['platelets']\n",
    "Q1 = P_data.quantile(0.25)\n",
    "Q3 = P_data.quantile(0.75)\n",
    "IQR = Q3-Q1\n",
    "min_whisker = Q1-(IQR*1.5)\n",
    "max_whisker = Q3 +(IQR*1.5)\n",
    "outliers = P_data[(P_data<min_whisker)|(P_data>max_whisker)]\n",
    "outliers.values\n",
    "#Same as Creatinine phospholinase, humans can have higher than normal rates of platelets in the blood. This was stated by \n",
    "#https://www.infobloom.com/what-is-a-high-platelet-count.htm . As a result, there is no strong reason to remove these values"
   ]
  },
  {
   "cell_type": "code",
   "execution_count": 17,
   "metadata": {},
   "outputs": [
    {
     "data": {
      "text/plain": [
       "array([2.7, 9.4, 4. , 5.8, 3. , 3.5, 2.3, 3. , 4.4, 6.8, 2.2, 2.7, 2.3,\n",
       "       2.9, 2.5, 2.3, 3.2, 3.7, 3.4, 6.1, 2.5, 2.4, 2.5, 3.5, 9. , 5. ,\n",
       "       2.4, 2.7, 3.8])"
      ]
     },
     "execution_count": 17,
     "metadata": {},
     "output_type": "execute_result"
    }
   ],
   "source": [
    "#Investigating Serum Creatinine\n",
    "SC_data = clinical_records['serum_creatinine']\n",
    "Q1 = SC_data.quantile(0.25)\n",
    "Q3 = SC_data.quantile(0.75)\n",
    "IQR = Q3-Q1\n",
    "min_whisker = Q1-(IQR*1.5)\n",
    "max_whisker = Q3 +(IQR*1.5)\n",
    "outliers = SC_data[(SC_data<min_whisker)|(SC_data>max_whisker)]\n",
    "outliers.values\n",
    "#According to the article https://www.emedicinehealth.com/creatinine_blood_tests/article_em.htm , a higher value of \n",
    "#serum creatinine signals health problems in the patient. Therefore, these are valid outliers"
   ]
  },
  {
   "cell_type": "code",
   "execution_count": 18,
   "metadata": {},
   "outputs": [
    {
     "data": {
      "text/plain": [
       "array([116, 121, 124, 113])"
      ]
     },
     "execution_count": 18,
     "metadata": {},
     "output_type": "execute_result"
    }
   ],
   "source": [
    "#Investigating Serum Sodium\n",
    "SS_data = clinical_records['serum_sodium']\n",
    "Q1 = SS_data.quantile(0.25)\n",
    "Q3 = SS_data.quantile(0.75)\n",
    "IQR = Q3-Q1\n",
    "min_whisker = Q1-(IQR*1.5)\n",
    "max_whisker = Q3 +(IQR*1.5)\n",
    "outliers = SS_data[(SS_data<min_whisker)|(SS_data>max_whisker)]\n",
    "outliers.values\n",
    "#It is possible for a patient to have serum sodium levels below the normal 135 mEq/L, so these values are not invalid outliers"
   ]
  },
  {
   "cell_type": "code",
   "execution_count": 19,
   "metadata": {},
   "outputs": [],
   "source": [
    "#The data looks clean and no further checking is required. Outliers can stay for data exploration as it's important to explore\n",
    "#unusual observations, but we will have to standarize it for Data Modelling, as it can affect accuracy of KNN model."
   ]
  },
  {
   "cell_type": "code",
   "execution_count": 20,
   "metadata": {},
   "outputs": [],
   "source": [
    "#Data Exploration"
   ]
  },
  {
   "cell_type": "code",
   "execution_count": 21,
   "metadata": {},
   "outputs": [],
   "source": [
    "#Let's explore each column in detail"
   ]
  },
  {
   "cell_type": "code",
   "execution_count": 22,
   "metadata": {},
   "outputs": [
    {
     "data": {
      "image/png": "[encoded data removed]",
      "text/plain": [
       "<Figure size 432x288 with 1 Axes>"
      ]
     },
     "metadata": {
      "needs_background": "light"
     },
     "output_type": "display_data"
    }
   ],
   "source": [
    "#We can see the age range of the patients.\n",
    "clinical_records['age'].plot(kind = 'hist', bins = 10,edgecolor='black', linewidth=1.2)\n",
    "plt.title('Number of patients with different ages')\n",
    "plt.xlabel('Age')\n",
    "plt.ylabel('No. of patients')\n",
    "plt.show()"
   ]
  },
  {
   "cell_type": "code",
   "execution_count": 23,
   "metadata": {},
   "outputs": [
    {
     "data": {
      "image/png": "[encoded data removed]",
      "text/plain": [
       "<Figure size 432x288 with 1 Axes>"
      ]
     },
     "metadata": {
      "needs_background": "light"
     },
     "output_type": "display_data"
    }
   ],
   "source": [
    "#x values are way too high to draw, therefore, we need to use log scale\n",
    "#The historgram is skewed to the right\n",
    "clinical_records['creatinine_phosphokinase'].plot(kind = 'hist', bins = 300,edgecolor='black')\n",
    "plt.title('Number of patients with different Creatinine Phosphokinase levels')\n",
    "plt.xscale('log')\n",
    "plt.xlabel('Creatinine Phosphokinase')\n",
    "plt.ylabel('No. of patients')\n",
    "plt.show()"
   ]
  },
  {
   "cell_type": "code",
   "execution_count": 24,
   "metadata": {},
   "outputs": [
    {
     "data": {
      "image/png": "[encoded data removed]",
      "text/plain": [
       "<Figure size 432x288 with 1 Axes>"
      ]
     },
     "metadata": {
      "needs_background": "light"
     },
     "output_type": "display_data"
    }
   ],
   "source": [
    "#Again, x values are too high. we need log scale\n",
    "#Overall,this diagram is a bit skewed to the left\n",
    "clinical_records['platelets'].plot(kind = 'hist', bins = 50,edgecolor='black')\n",
    "plt.title('Number of patients with different platelets')\n",
    "plt.xscale('log')\n",
    "plt.xlabel('Platelets')\n",
    "plt.ylabel('No. of patients')\n",
    "plt.show()"
   ]
  },
  {
   "cell_type": "code",
   "execution_count": 25,
   "metadata": {},
   "outputs": [
    {
     "data": {
      "image/png": "[encoded data removed]",
      "text/plain": [
       "<Figure size 432x288 with 1 Axes>"
      ]
     },
     "metadata": {
      "needs_background": "light"
     },
     "output_type": "display_data"
    }
   ],
   "source": [
    "#There seem to be few outliers. Overall, it is symmetrically distributed\n",
    "clinical_records.boxplot(column='serum_sodium')\n",
    "plt.title('Boxplot of Serum Sodium')\n",
    "plt.show()"
   ]
  },
  {
   "cell_type": "code",
   "execution_count": 26,
   "metadata": {},
   "outputs": [
    {
     "data": {
      "image/png": "[encoded data removed]",
      "text/plain": [
       "<Figure size 432x288 with 1 Axes>"
      ]
     },
     "metadata": {},
     "output_type": "display_data"
    }
   ],
   "source": [
    "#Getting the percentage of people having anaemia\n",
    "labels= ['No','Yes']\n",
    "clinical_records['anaemia'].value_counts().plot(kind= 'pie',autopct='%.2f',labels=labels)\n",
    "plt.title('People having anaemia')\n",
    "plt.legend(labels, loc=\"best\")\n",
    "plt.ylabel('')\n",
    "plt.show()"
   ]
  },
  {
   "cell_type": "code",
   "execution_count": 27,
   "metadata": {},
   "outputs": [
    {
     "data": {
      "image/png": "[encoded data removed]",
      "text/plain": [
       "<Figure size 432x288 with 1 Axes>"
      ]
     },
     "metadata": {},
     "output_type": "display_data"
    }
   ],
   "source": [
    "#Getting the percentage of people having diabetes\n",
    "labels= ['No','Yes']\n",
    "clinical_records['diabetes'].value_counts().plot(kind= 'pie',autopct='%.2f',labels=labels)\n",
    "plt.title('People having diabetes')\n",
    "plt.legend(labels, loc=\"best\")\n",
    "plt.ylabel('')\n",
    "plt.show()"
   ]
  },
  {
   "cell_type": "code",
   "execution_count": 28,
   "metadata": {},
   "outputs": [
    {
     "data": {
      "image/png": "[encoded data removed]",
      "text/plain": [
       "<Figure size 432x288 with 1 Axes>"
      ]
     },
     "metadata": {},
     "output_type": "display_data"
    }
   ],
   "source": [
    "#Getting the percentage of people having high blood pressure\n",
    "labels= ['No','Yes']\n",
    "clinical_records['high_blood_pressure'].value_counts().plot(kind= 'pie',autopct='%.2f',labels=labels)\n",
    "plt.title('People having high blood pressure')\n",
    "plt.legend(labels, loc=\"best\")\n",
    "plt.ylabel('')\n",
    "plt.show()"
   ]
  },
  {
   "cell_type": "code",
   "execution_count": 29,
   "metadata": {},
   "outputs": [
    {
     "data": {
      "image/png": "[encoded data removed]",
      "text/plain": [
       "<Figure size 432x288 with 1 Axes>"
      ]
     },
     "metadata": {},
     "output_type": "display_data"
    }
   ],
   "source": [
    "#No. of males and females\n",
    "labels= ['Male','Female']\n",
    "clinical_records['sex'].value_counts().plot(kind= 'pie',autopct='%.2f',labels=labels)\n",
    "plt.title('Gender Distribution')\n",
    "plt.legend(labels, loc=\"best\")\n",
    "plt.ylabel('')\n",
    "plt.show()"
   ]
  },
  {
   "cell_type": "code",
   "execution_count": 30,
   "metadata": {},
   "outputs": [
    {
     "data": {
      "image/png": "[encoded data removed]",
      "text/plain": [
       "<Figure size 432x288 with 1 Axes>"
      ]
     },
     "metadata": {},
     "output_type": "display_data"
    }
   ],
   "source": [
    "#Percentage of people who smoke\n",
    "labels= ['No','Yes']\n",
    "clinical_records['smoking'].value_counts().plot(kind= 'pie',autopct='%.2f',labels=labels)\n",
    "plt.title('People who do smoking')\n",
    "plt.legend(labels, loc=\"best\")\n",
    "plt.ylabel('')\n",
    "plt.show()"
   ]
  },
  {
   "cell_type": "code",
   "execution_count": 31,
   "metadata": {},
   "outputs": [
    {
     "data": {
      "image/png": "[encoded data removed]",
      "text/plain": [
       "<Figure size 432x288 with 1 Axes>"
      ]
     },
     "metadata": {},
     "output_type": "display_data"
    }
   ],
   "source": [
    "#Percentage of overall survival rates\n",
    "labels= ['Survived','Died']\n",
    "clinical_records['DEATH_EVENT'].value_counts().plot(kind= 'pie',autopct='%.2f',labels=labels)\n",
    "plt.title('Survival rates')\n",
    "plt.legend(labels, loc=\"best\")\n",
    "plt.ylabel('')\n",
    "plt.show()"
   ]
  },
  {
   "cell_type": "code",
   "execution_count": 32,
   "metadata": {},
   "outputs": [
    {
     "name": "stderr",
     "output_type": "stream",
     "text": [
      "/Users/manavmakkar/opt/anaconda3/lib/python3.8/site-packages/seaborn/_decorators.py:36: FutureWarning: Pass the following variables as keyword args: x, y. From version 0.12, the only valid positional argument will be `data`, and passing other arguments without an explicit keyword will result in an error or misinterpretation.\n",
      "  warnings.warn(\n"
     ]
    },
    {
     "data": {
      "image/png": "[encoded data removed]",
      "text/plain": [
       "<Figure size 432x288 with 1 Axes>"
      ]
     },
     "metadata": {
      "needs_background": "light"
     },
     "output_type": "display_data"
    }
   ],
   "source": [
    "#Releationship between age and death rates.\n",
    "#Younger people seemed to have better survival rate than those older.\n",
    "sns.boxplot(clinical_records['DEATH_EVENT'], clinical_records['age'])\n",
    "plt.xlabel(\"Death Event\")\n",
    "plt.ylabel(\"Age\")\n",
    "ticks = [0,1]\n",
    "labels = ['Survived','Died']\n",
    "plt.xticks(ticks,labels)\n",
    "plt.title('Boxplot of Age by Death Event', fontsize = 15)\n",
    "plt.show()"
   ]
  },
  {
   "cell_type": "code",
   "execution_count": 33,
   "metadata": {},
   "outputs": [
    {
     "data": {
      "image/png": "[encoded data removed]",
      "text/plain": [
       "<Figure size 432x288 with 1 Axes>"
      ]
     },
     "metadata": {},
     "output_type": "display_data"
    }
   ],
   "source": [
    "#Relationship between gender and death rates\n",
    "\n",
    "#More males have died in comparsion to females.\n",
    "\n",
    "male_records = clinical_records[clinical_records.sex==1]\n",
    "male_death = male_records[male_records.DEATH_EVENT==1]\n",
    "\n",
    "female_records = clinical_records[clinical_records.sex==0]\n",
    "female_death = female_records[female_records.DEATH_EVENT==1]\n",
    "\n",
    "values = [male_death.shape[0],female_death.shape[0]]\n",
    "df = pd.DataFrame(values)\n",
    "labels= ['Male','Female']\n",
    "df.plot(kind='pie', subplots=True, autopct='%.2f',labels=labels)\n",
    "plt.title('Death events based on Gender')\n",
    "plt.legend(labels, loc=\"best\")\n",
    "plt.ylabel('')\n",
    "plt.show()"
   ]
  },
  {
   "cell_type": "code",
   "execution_count": 34,
   "metadata": {},
   "outputs": [
    {
     "data": {
      "image/png": "[encoded data removed]",
      "text/plain": [
       "<Figure size 432x288 with 1 Axes>"
      ]
     },
     "metadata": {},
     "output_type": "display_data"
    }
   ],
   "source": [
    "#Interestingly, more males have survived in comparsion to females\n",
    "\n",
    "male_records = clinical_records[clinical_records.sex==1]\n",
    "male_survival = male_records[male_records.DEATH_EVENT==0]\n",
    "\n",
    "\n",
    "female_records = clinical_records[clinical_records.sex==0]\n",
    "female_survival = female_records[female_records.DEATH_EVENT==0]\n",
    "\n",
    "values = [male_survival.shape[0],female_survival.shape[0]]\n",
    "df = pd.DataFrame(values)\n",
    "labels= ['Male','Female']\n",
    "df.plot(kind='pie', subplots=True, autopct='%.2f',labels=labels)\n",
    "plt.title('Survival based on Gender')\n",
    "plt.legend(labels, loc=\"best\")\n",
    "plt.ylabel('')\n",
    "plt.show()"
   ]
  },
  {
   "cell_type": "code",
   "execution_count": 35,
   "metadata": {},
   "outputs": [
    {
     "data": {
      "image/png": "[encoded data removed]",
      "text/plain": [
       "<Figure size 432x288 with 1 Axes>"
      ]
     },
     "metadata": {},
     "output_type": "display_data"
    }
   ],
   "source": [
    "#Relationship between smoking and death rates\n",
    "\n",
    "smoker_records = clinical_records[clinical_records.smoking==1]\n",
    "smoker_death = smoker_records[smoker_records.DEATH_EVENT==1]\n",
    "\n",
    "non_smoker_records = clinical_records[clinical_records.smoking==0]\n",
    "non_smoker_death = non_smoker_records[non_smoker_records.DEATH_EVENT==1]\n",
    "\n",
    "values = [smoker_death.shape[0],non_smoker_death.shape[0]]\n",
    "df = pd.DataFrame(values)\n",
    "labels= ['Smoker','Non-Smoker']\n",
    "df.plot(kind='pie', subplots=True, autopct='%.2f',labels=labels)\n",
    "plt.legend(labels, loc=\"best\")\n",
    "plt.title('Death events based on Smoking')\n",
    "plt.legend(labels, loc=2)\n",
    "plt.ylabel('')\n",
    "plt.show()"
   ]
  },
  {
   "cell_type": "code",
   "execution_count": 36,
   "metadata": {},
   "outputs": [
    {
     "data": {
      "image/png": "[encoded data removed]",
      "text/plain": [
       "<Figure size 432x288 with 1 Axes>"
      ]
     },
     "metadata": {},
     "output_type": "display_data"
    }
   ],
   "source": [
    "\n",
    "smoker_records = clinical_records[clinical_records.smoking==1]\n",
    "smoker_survival = smoker_records[smoker_records.DEATH_EVENT==0]\n",
    "\n",
    "\n",
    "non_smoker_records = clinical_records[clinical_records.smoking==0]\n",
    "non_smoker_survival = non_smoker_records[non_smoker_records.DEATH_EVENT==0]\n",
    "\n",
    "values = [smoker_survival.shape[0],non_smoker_survival.shape[0]]\n",
    "df = pd.DataFrame(values)\n",
    "labels= ['Smoker','Non-Smoker']\n",
    "df.plot(kind='pie', subplots=True, autopct='%.2f',labels=labels)\n",
    "plt.title('Survival based on Smoking')\n",
    "plt.legend(labels, loc=2)\n",
    "plt.ylabel('')\n",
    "plt.show()"
   ]
  },
  {
   "cell_type": "code",
   "execution_count": null,
   "metadata": {},
   "outputs": [],
   "source": []
  },
  {
   "cell_type": "code",
   "execution_count": 37,
   "metadata": {},
   "outputs": [
    {
     "data": {
      "image/png": "[encoded data removed]",
      "text/plain": [
       "<Figure size 432x288 with 1 Axes>"
      ]
     },
     "metadata": {},
     "output_type": "display_data"
    }
   ],
   "source": [
    "#Relationship between diabetes and death event\n",
    "diabetes_records = clinical_records[clinical_records.diabetes==1]\n",
    "diabetes_death = diabetes_records[diabetes_records.DEATH_EVENT==1]\n",
    "\n",
    "non_diabetes_records = clinical_records[clinical_records.diabetes==0]\n",
    "non_diabetes_death = non_diabetes_records[non_diabetes_records.DEATH_EVENT==1]\n",
    "\n",
    "values = [diabetes_death.shape[0],non_diabetes_death.shape[0]]\n",
    "df = pd.DataFrame(values)\n",
    "labels= ['diabetes','Non-diabetes']\n",
    "df.plot(kind='pie', subplots=True, autopct='%.2f',labels=labels)\n",
    "plt.legend(labels, loc=\"best\")\n",
    "plt.title('Death events based on diabetes')\n",
    "plt.legend(labels, loc=2)\n",
    "plt.ylabel('')\n",
    "plt.show()"
   ]
  },
  {
   "cell_type": "code",
   "execution_count": 38,
   "metadata": {},
   "outputs": [
    {
     "data": {
      "image/png": "[encoded data removed]",
      "text/plain": [
       "<Figure size 432x288 with 1 Axes>"
      ]
     },
     "metadata": {},
     "output_type": "display_data"
    }
   ],
   "source": [
    "diabetes_records = clinical_records[clinical_records.diabetes==1]\n",
    "diabetes_survival =diabetes_records[diabetes_records.DEATH_EVENT==0]\n",
    "\n",
    "\n",
    "non_diabetes_records = clinical_records[clinical_records.diabetes==0]\n",
    "non_diabetes_survival = non_diabetes_records[non_diabetes_records.DEATH_EVENT==0]\n",
    "\n",
    "values = [diabetes_survival.shape[0],non_diabetes_survival.shape[0]]\n",
    "df = pd.DataFrame(values)\n",
    "labels= ['diabetes','Non-diabetes']\n",
    "df.plot(kind='pie', subplots=True, autopct='%.2f',labels=labels)\n",
    "plt.title('Survival based on diabetes')\n",
    "plt.legend(labels, loc=2)\n",
    "plt.ylabel('')\n",
    "plt.show()"
   ]
  },
  {
   "cell_type": "code",
   "execution_count": null,
   "metadata": {},
   "outputs": [],
   "source": []
  },
  {
   "cell_type": "code",
   "execution_count": 39,
   "metadata": {},
   "outputs": [
    {
     "data": {
      "image/png": "[encoded data removed]",
      "text/plain": [
       "<Figure size 432x288 with 1 Axes>"
      ]
     },
     "metadata": {},
     "output_type": "display_data"
    }
   ],
   "source": [
    "#Relationship between anaemia and death event\n",
    "anaemia_records = clinical_records[clinical_records.anaemia==1]\n",
    "anaemia_death = anaemia_records[anaemia_records.DEATH_EVENT==1]\n",
    "\n",
    "non_anaemia_records = clinical_records[clinical_records.anaemia==0]\n",
    "non_anaemia_death = non_anaemia_records[non_anaemia_records.DEATH_EVENT==1]\n",
    "\n",
    "values = [anaemia_death.shape[0],non_anaemia_death.shape[0]]\n",
    "df = pd.DataFrame(values)\n",
    "labels= ['anaemia','Non-anaemia']\n",
    "df.plot(kind='pie', subplots=True, autopct='%.2f',labels=labels)\n",
    "plt.legend(labels, loc=\"best\")\n",
    "plt.title('Death events based on anaemia')\n",
    "plt.legend(labels, loc=\"lower right\")\n",
    "plt.ylabel('')\n",
    "plt.show()"
   ]
  },
  {
   "cell_type": "code",
   "execution_count": 40,
   "metadata": {},
   "outputs": [
    {
     "data": {
      "image/png": "[encoded data removed]",
      "text/plain": [
       "<Figure size 432x288 with 1 Axes>"
      ]
     },
     "metadata": {},
     "output_type": "display_data"
    }
   ],
   "source": [
    "anaemia_records = clinical_records[clinical_records.anaemia==1]\n",
    "anaemia_survival =anaemia_records[anaemia_records.DEATH_EVENT==0]\n",
    "\n",
    "\n",
    "non_anaemia_records = clinical_records[clinical_records.anaemia==0]\n",
    "non_anaemia_survival = non_anaemia_records[non_anaemia_records.DEATH_EVENT==0]\n",
    "\n",
    "values = [anaemia_survival.shape[0],non_anaemia_survival.shape[0]]\n",
    "df = pd.DataFrame(values)\n",
    "labels= ['anaemia','Non-anaemia']\n",
    "df.plot(kind='pie', subplots=True, autopct='%.2f',labels=labels)\n",
    "plt.title('Survival based on anaemia')\n",
    "plt.legend(labels, loc=\"lower right\")\n",
    "plt.ylabel('')\n",
    "plt.show()"
   ]
  },
  {
   "cell_type": "code",
   "execution_count": null,
   "metadata": {},
   "outputs": [],
   "source": []
  },
  {
   "cell_type": "code",
   "execution_count": 41,
   "metadata": {},
   "outputs": [
    {
     "data": {
      "image/png": "[encoded data removed]",
      "text/plain": [
       "<Figure size 432x288 with 1 Axes>"
      ]
     },
     "metadata": {},
     "output_type": "display_data"
    }
   ],
   "source": [
    "#Relationship between high blood pressure and death event\n",
    "high_blood_pressure_records = clinical_records[clinical_records.high_blood_pressure==1]\n",
    "high_blood_pressure_death = high_blood_pressure_records[high_blood_pressure_records.DEATH_EVENT==1]\n",
    "\n",
    "non_high_blood_pressure_records = clinical_records[clinical_records.high_blood_pressure==0]\n",
    "non_high_blood_pressure_death = non_high_blood_pressure_records[non_high_blood_pressure_records.DEATH_EVENT==1]\n",
    "\n",
    "values = [high_blood_pressure_death.shape[0],non_high_blood_pressure_death.shape[0]]\n",
    "df = pd.DataFrame(values)\n",
    "labels= ['high_blood_pressure','Non-high_blood_pressure']\n",
    "df.plot(kind='pie', subplots=True, autopct='%.2f',labels=labels)\n",
    "plt.legend(labels, loc=\"best\")\n",
    "plt.title('Death events based on high_blood_pressure')\n",
    "plt.legend(labels, loc=5)\n",
    "plt.ylabel('')\n",
    "plt.show()"
   ]
  },
  {
   "cell_type": "code",
   "execution_count": 42,
   "metadata": {},
   "outputs": [
    {
     "data": {
      "image/png": "[encoded data removed]",
      "text/plain": [
       "<Figure size 432x288 with 1 Axes>"
      ]
     },
     "metadata": {},
     "output_type": "display_data"
    }
   ],
   "source": [
    "high_blood_pressure_records = clinical_records[clinical_records.high_blood_pressure==1]\n",
    "high_blood_pressure_survival =high_blood_pressure_records[high_blood_pressure_records.DEATH_EVENT==0]\n",
    "\n",
    "\n",
    "non_high_blood_pressure_records = clinical_records[clinical_records.high_blood_pressure==0]\n",
    "non_high_blood_pressure_survival = non_high_blood_pressure_records[non_high_blood_pressure_records.DEATH_EVENT==0]\n",
    "\n",
    "values = [high_blood_pressure_survival.shape[0],non_high_blood_pressure_survival.shape[0]]\n",
    "df = pd.DataFrame(values)\n",
    "labels= ['high_blood_pressure','Non-high_blood_pressure']\n",
    "df.plot(kind='pie', subplots=True, autopct='%.2f',labels=labels)\n",
    "plt.title('Survival based on high_blood_pressure')\n",
    "plt.legend(labels, loc=5)\n",
    "plt.ylabel('')\n",
    "plt.show()"
   ]
  },
  {
   "cell_type": "code",
   "execution_count": null,
   "metadata": {},
   "outputs": [],
   "source": []
  },
  {
   "cell_type": "code",
   "execution_count": 43,
   "metadata": {},
   "outputs": [
    {
     "name": "stderr",
     "output_type": "stream",
     "text": [
      "/Users/manavmakkar/opt/anaconda3/lib/python3.8/site-packages/seaborn/_decorators.py:36: FutureWarning: Pass the following variables as keyword args: x, y. From version 0.12, the only valid positional argument will be `data`, and passing other arguments without an explicit keyword will result in an error or misinterpretation.\n",
      "  warnings.warn(\n"
     ]
    },
    {
     "data": {
      "image/png": "[encoded data removed]",
      "text/plain": [
       "<Figure size 432x288 with 1 Axes>"
      ]
     },
     "metadata": {
      "needs_background": "light"
     },
     "output_type": "display_data"
    }
   ],
   "source": [
    "#Relationship between Ejection Fraction and Death Event\n",
    "#Interestingly, patients with higher ejection fraction survived frequently than those with less ejection fraction \n",
    "sns.boxplot(clinical_records['DEATH_EVENT'], clinical_records['ejection_fraction'])\n",
    "plt.xlabel(\"Death Event\")\n",
    "plt.ylabel(\"Ejection Fraction\")\n",
    "ticks = [0,1]\n",
    "labels = ['Survived','Died']\n",
    "plt.xticks(ticks,labels)\n",
    "plt.title('Boxplot of Ejection Fraction by Death Event', fontsize = 15)\n",
    "plt.show()"
   ]
  },
  {
   "cell_type": "code",
   "execution_count": 44,
   "metadata": {},
   "outputs": [
    {
     "name": "stderr",
     "output_type": "stream",
     "text": [
      "/Users/manavmakkar/opt/anaconda3/lib/python3.8/site-packages/seaborn/_decorators.py:36: FutureWarning: Pass the following variables as keyword args: x, y. From version 0.12, the only valid positional argument will be `data`, and passing other arguments without an explicit keyword will result in an error or misinterpretation.\n",
      "  warnings.warn(\n"
     ]
    },
    {
     "data": {
      "image/png": "[encoded data removed]",
      "text/plain": [
       "<Figure size 432x288 with 1 Axes>"
      ]
     },
     "metadata": {
      "needs_background": "light"
     },
     "output_type": "display_data"
    }
   ],
   "source": [
    "#Relationship between Serum Sodium and Death Event\n",
    "#Patients generally with a higher serum sodium survived than those with less serum sodium\n",
    "sns.boxplot(clinical_records['DEATH_EVENT'], clinical_records['serum_sodium'])\n",
    "plt.xlabel(\"Death Event\")\n",
    "plt.ylabel(\"Serum Sodium\")\n",
    "ticks = [0,1]\n",
    "labels = ['Survived','Died']\n",
    "plt.xticks(ticks,labels)\n",
    "plt.title('Boxplot of Serum Sodium by Death Event', fontsize = 15)\n",
    "plt.show()"
   ]
  },
  {
   "cell_type": "code",
   "execution_count": 45,
   "metadata": {},
   "outputs": [
    {
     "name": "stderr",
     "output_type": "stream",
     "text": [
      "/Users/manavmakkar/opt/anaconda3/lib/python3.8/site-packages/seaborn/_decorators.py:36: FutureWarning: Pass the following variables as keyword args: x, y. From version 0.12, the only valid positional argument will be `data`, and passing other arguments without an explicit keyword will result in an error or misinterpretation.\n",
      "  warnings.warn(\n"
     ]
    },
    {
     "data": {
      "image/png": "[encoded data removed]",
      "text/plain": [
       "<Figure size 432x288 with 1 Axes>"
      ]
     },
     "metadata": {
      "needs_background": "light"
     },
     "output_type": "display_data"
    }
   ],
   "source": [
    "#Relationship between Creatinine Phosphokinase and Death Event\n",
    "#Patients with higher Creatinine Phosphokinase died compared to those with lower Creatinine Phosphokinase.  \n",
    "#This takes in consideration the outliers, which are valid as it could not be proved erroneous.\n",
    "sns.boxplot(clinical_records['DEATH_EVENT'], clinical_records['creatinine_phosphokinase'])\n",
    "plt.xlabel(\"Death Event\")\n",
    "plt.ylabel(\"Creatinine Phosphokinase\")\n",
    "plt.yscale('log')\n",
    "ticks = [0,1]\n",
    "labels = ['Survived','Died']\n",
    "plt.xticks(ticks,labels)\n",
    "plt.title('Boxplot of Creatinine Phosphokinase by Death Event', fontsize = 15)\n",
    "plt.show()"
   ]
  },
  {
   "cell_type": "code",
   "execution_count": 46,
   "metadata": {},
   "outputs": [
    {
     "name": "stderr",
     "output_type": "stream",
     "text": [
      "/Users/manavmakkar/opt/anaconda3/lib/python3.8/site-packages/seaborn/_decorators.py:36: FutureWarning: Pass the following variables as keyword args: x, y. From version 0.12, the only valid positional argument will be `data`, and passing other arguments without an explicit keyword will result in an error or misinterpretation.\n",
      "  warnings.warn(\n"
     ]
    },
    {
     "data": {
      "image/png": "[encoded data removed]",
      "text/plain": [
       "<Figure size 432x288 with 1 Axes>"
      ]
     },
     "metadata": {
      "needs_background": "light"
     },
     "output_type": "display_data"
    }
   ],
   "source": [
    "#Relationship between Platelets and Death event\n",
    "sns.boxplot(clinical_records['DEATH_EVENT'], clinical_records['platelets'])\n",
    "plt.xlabel(\"Death Event\")\n",
    "plt.ylabel(\"Platelets\")\n",
    "plt.yscale('log')\n",
    "ticks = [0,1]\n",
    "labels = ['Survived','Died']\n",
    "plt.xticks(ticks,labels)\n",
    "plt.title('Boxplot of Platelets by Death Event', fontsize = 15)\n",
    "plt.show()"
   ]
  },
  {
   "cell_type": "code",
   "execution_count": 47,
   "metadata": {},
   "outputs": [],
   "source": [
    "#DataModelling\n",
    "#KNN\n",
    "#It is known outliers are present within the data, therefore, it is important to standarize the data."
   ]
  },
  {
   "cell_type": "code",
   "execution_count": 48,
   "metadata": {},
   "outputs": [
    {
     "data": {
      "text/html": [
       "<div>\n",
       "<style scoped>\n",
       "    .dataframe tbody tr th:only-of-type {\n",
       "        vertical-align: middle;\n",
       "    }\n",
       "\n",
       "    .dataframe tbody tr th {\n",
       "        vertical-align: top;\n",
       "    }\n",
       "\n",
       "    .dataframe thead th {\n",
       "        text-align: right;\n",
       "    }\n",
       "</style>\n",
       "<table border=\"1\" class=\"dataframe\">\n",
       "  <thead>\n",
       "    <tr style=\"text-align: right;\">\n",
       "      <th></th>\n",
       "      <th>age</th>\n",
       "      <th>anaemia</th>\n",
       "      <th>creatinine_phosphokinase</th>\n",
       "      <th>diabetes</th>\n",
       "      <th>ejection_fraction</th>\n",
       "      <th>high_blood_pressure</th>\n",
       "      <th>platelets</th>\n",
       "      <th>serum_creatinine</th>\n",
       "      <th>serum_sodium</th>\n",
       "      <th>sex</th>\n",
       "      <th>smoking</th>\n",
       "      <th>time</th>\n",
       "      <th>DEATH_Event</th>\n",
       "    </tr>\n",
       "  </thead>\n",
       "  <tbody>\n",
       "    <tr>\n",
       "      <th>0</th>\n",
       "      <td>1.192945</td>\n",
       "      <td>-0.871105</td>\n",
       "      <td>0.000166</td>\n",
       "      <td>-0.847579</td>\n",
       "      <td>-1.530560</td>\n",
       "      <td>1.359272</td>\n",
       "      <td>1.681648e-02</td>\n",
       "      <td>0.490057</td>\n",
       "      <td>-1.504036</td>\n",
       "      <td>0.735688</td>\n",
       "      <td>-0.687682</td>\n",
       "      <td>-1.629502</td>\n",
       "      <td>1</td>\n",
       "    </tr>\n",
       "    <tr>\n",
       "      <th>1</th>\n",
       "      <td>-0.491279</td>\n",
       "      <td>-0.871105</td>\n",
       "      <td>7.514640</td>\n",
       "      <td>-0.847579</td>\n",
       "      <td>-0.007077</td>\n",
       "      <td>-0.735688</td>\n",
       "      <td>7.535660e-09</td>\n",
       "      <td>-0.284552</td>\n",
       "      <td>-0.141976</td>\n",
       "      <td>0.735688</td>\n",
       "      <td>-0.687682</td>\n",
       "      <td>-1.603691</td>\n",
       "      <td>1</td>\n",
       "    </tr>\n",
       "    <tr>\n",
       "      <th>2</th>\n",
       "      <td>0.350833</td>\n",
       "      <td>-0.871105</td>\n",
       "      <td>-0.449939</td>\n",
       "      <td>-0.847579</td>\n",
       "      <td>-1.530560</td>\n",
       "      <td>-0.735688</td>\n",
       "      <td>-1.038073e+00</td>\n",
       "      <td>-0.090900</td>\n",
       "      <td>-1.731046</td>\n",
       "      <td>0.735688</td>\n",
       "      <td>1.454161</td>\n",
       "      <td>-1.590785</td>\n",
       "      <td>1</td>\n",
       "    </tr>\n",
       "    <tr>\n",
       "      <th>3</th>\n",
       "      <td>-0.912335</td>\n",
       "      <td>1.147968</td>\n",
       "      <td>-0.486071</td>\n",
       "      <td>-0.847579</td>\n",
       "      <td>-1.530560</td>\n",
       "      <td>-0.735688</td>\n",
       "      <td>-5.464741e-01</td>\n",
       "      <td>0.490057</td>\n",
       "      <td>0.085034</td>\n",
       "      <td>0.735688</td>\n",
       "      <td>-0.687682</td>\n",
       "      <td>-1.590785</td>\n",
       "      <td>1</td>\n",
       "    </tr>\n",
       "    <tr>\n",
       "      <th>4</th>\n",
       "      <td>0.350833</td>\n",
       "      <td>1.147968</td>\n",
       "      <td>-0.435486</td>\n",
       "      <td>1.179830</td>\n",
       "      <td>-1.530560</td>\n",
       "      <td>-0.735688</td>\n",
       "      <td>6.517986e-01</td>\n",
       "      <td>1.264666</td>\n",
       "      <td>-4.682176</td>\n",
       "      <td>-1.359272</td>\n",
       "      <td>-0.687682</td>\n",
       "      <td>-1.577879</td>\n",
       "      <td>1</td>\n",
       "    </tr>\n",
       "    <tr>\n",
       "      <th>5</th>\n",
       "      <td>2.456114</td>\n",
       "      <td>1.147968</td>\n",
       "      <td>-0.552141</td>\n",
       "      <td>-0.847579</td>\n",
       "      <td>0.162199</td>\n",
       "      <td>1.359272</td>\n",
       "      <td>-6.079240e-01</td>\n",
       "      <td>0.683709</td>\n",
       "      <td>-1.050016</td>\n",
       "      <td>0.735688</td>\n",
       "      <td>1.454161</td>\n",
       "      <td>-1.577879</td>\n",
       "      <td>1</td>\n",
       "    </tr>\n",
       "    <tr>\n",
       "      <th>6</th>\n",
       "      <td>1.192945</td>\n",
       "      <td>1.147968</td>\n",
       "      <td>-0.346704</td>\n",
       "      <td>-0.847579</td>\n",
       "      <td>-1.953749</td>\n",
       "      <td>-0.735688</td>\n",
       "      <td>-1.396531e+00</td>\n",
       "      <td>-0.187726</td>\n",
       "      <td>0.085034</td>\n",
       "      <td>0.735688</td>\n",
       "      <td>-0.687682</td>\n",
       "      <td>-1.552067</td>\n",
       "      <td>1</td>\n",
       "    </tr>\n",
       "    <tr>\n",
       "      <th>7</th>\n",
       "      <td>-0.070223</td>\n",
       "      <td>1.147968</td>\n",
       "      <td>-0.275472</td>\n",
       "      <td>1.179830</td>\n",
       "      <td>1.854958</td>\n",
       "      <td>-0.735688</td>\n",
       "      <td>1.952488e+00</td>\n",
       "      <td>-0.284552</td>\n",
       "      <td>-1.277026</td>\n",
       "      <td>0.735688</td>\n",
       "      <td>1.454161</td>\n",
       "      <td>-1.552067</td>\n",
       "      <td>1</td>\n",
       "    </tr>\n",
       "    <tr>\n",
       "      <th>8</th>\n",
       "      <td>0.350833</td>\n",
       "      <td>-0.871105</td>\n",
       "      <td>-0.438583</td>\n",
       "      <td>-0.847579</td>\n",
       "      <td>2.278147</td>\n",
       "      <td>-0.735688</td>\n",
       "      <td>7.535660e-09</td>\n",
       "      <td>0.102752</td>\n",
       "      <td>0.312044</td>\n",
       "      <td>-1.359272</td>\n",
       "      <td>-0.687682</td>\n",
       "      <td>-1.552067</td>\n",
       "      <td>1</td>\n",
       "    </tr>\n",
       "    <tr>\n",
       "      <th>9</th>\n",
       "      <td>1.614001</td>\n",
       "      <td>1.147968</td>\n",
       "      <td>-0.473683</td>\n",
       "      <td>-0.847579</td>\n",
       "      <td>-0.260991</td>\n",
       "      <td>1.359272</td>\n",
       "      <td>1.276539e+00</td>\n",
       "      <td>7.752020</td>\n",
       "      <td>-0.823006</td>\n",
       "      <td>0.735688</td>\n",
       "      <td>1.454161</td>\n",
       "      <td>-1.552067</td>\n",
       "      <td>1</td>\n",
       "    </tr>\n",
       "  </tbody>\n",
       "</table>\n",
       "</div>"
      ],
      "text/plain": [
       "        age   anaemia  creatinine_phosphokinase  diabetes  ejection_fraction  \\\n",
       "0  1.192945 -0.871105                  0.000166 -0.847579          -1.530560   \n",
       "1 -0.491279 -0.871105                  7.514640 -0.847579          -0.007077   \n",
       "2  0.350833 -0.871105                 -0.449939 -0.847579          -1.530560   \n",
       "3 -0.912335  1.147968                 -0.486071 -0.847579          -1.530560   \n",
       "4  0.350833  1.147968                 -0.435486  1.179830          -1.530560   \n",
       "5  2.456114  1.147968                 -0.552141 -0.847579           0.162199   \n",
       "6  1.192945  1.147968                 -0.346704 -0.847579          -1.953749   \n",
       "7 -0.070223  1.147968                 -0.275472  1.179830           1.854958   \n",
       "8  0.350833 -0.871105                 -0.438583 -0.847579           2.278147   \n",
       "9  1.614001  1.147968                 -0.473683 -0.847579          -0.260991   \n",
       "\n",
       "   high_blood_pressure     platelets  serum_creatinine  serum_sodium  \\\n",
       "0             1.359272  1.681648e-02          0.490057     -1.504036   \n",
       "1            -0.735688  7.535660e-09         -0.284552     -0.141976   \n",
       "2            -0.735688 -1.038073e+00         -0.090900     -1.731046   \n",
       "3            -0.735688 -5.464741e-01          0.490057      0.085034   \n",
       "4            -0.735688  6.517986e-01          1.264666     -4.682176   \n",
       "5             1.359272 -6.079240e-01          0.683709     -1.050016   \n",
       "6            -0.735688 -1.396531e+00         -0.187726      0.085034   \n",
       "7            -0.735688  1.952488e+00         -0.284552     -1.277026   \n",
       "8            -0.735688  7.535660e-09          0.102752      0.312044   \n",
       "9             1.359272  1.276539e+00          7.752020     -0.823006   \n",
       "\n",
       "        sex   smoking      time  DEATH_Event  \n",
       "0  0.735688 -0.687682 -1.629502            1  \n",
       "1  0.735688 -0.687682 -1.603691            1  \n",
       "2  0.735688  1.454161 -1.590785            1  \n",
       "3  0.735688 -0.687682 -1.590785            1  \n",
       "4 -1.359272 -0.687682 -1.577879            1  \n",
       "5  0.735688  1.454161 -1.577879            1  \n",
       "6  0.735688 -0.687682 -1.552067            1  \n",
       "7  0.735688  1.454161 -1.552067            1  \n",
       "8 -1.359272 -0.687682 -1.552067            1  \n",
       "9  0.735688  1.454161 -1.552067            1  "
      ]
     },
     "execution_count": 48,
     "metadata": {},
     "output_type": "execute_result"
    }
   ],
   "source": [
    "independent_features = clinical_records.drop('DEATH_EVENT',axis=1)\n",
    "std_scale = preprocessing.StandardScaler().fit(independent_features)\n",
    "data = std_scale.transform(independent_features)\n",
    "columns = ['age','anaemia','creatinine_phosphokinase','diabetes','ejection_fraction','high_blood_pressure','platelets','serum_creatinine','serum_sodium','sex','smoking','time']\n",
    "df_std = pd.DataFrame(data,columns=columns)\n",
    "df_std['DEATH_Event'] = clinical_records['DEATH_EVENT']\n",
    "df_std.head(10)"
   ]
  },
  {
   "cell_type": "code",
   "execution_count": 49,
   "metadata": {},
   "outputs": [],
   "source": [
    "model_base = df_std.values\n",
    "df_std_data = model_base[:,:-1]\n",
    "df_std_target = model_base[:,-1]"
   ]
  },
  {
   "cell_type": "code",
   "execution_count": 50,
   "metadata": {},
   "outputs": [
    {
     "data": {
      "text/plain": [
       "(299, 12)"
      ]
     },
     "execution_count": 50,
     "metadata": {},
     "output_type": "execute_result"
    }
   ],
   "source": [
    "df_std_data.shape"
   ]
  },
  {
   "cell_type": "code",
   "execution_count": 51,
   "metadata": {},
   "outputs": [
    {
     "data": {
      "text/plain": [
       "(299,)"
      ]
     },
     "execution_count": 51,
     "metadata": {},
     "output_type": "execute_result"
    }
   ],
   "source": [
    "df_std_target.shape"
   ]
  },
  {
   "cell_type": "code",
   "execution_count": 52,
   "metadata": {},
   "outputs": [
    {
     "data": {
      "text/plain": [
       "array([[ 1.78242381e+00, -8.71104775e-01, -5.28397342e-01, ...,\n",
       "         7.35688190e-01,  1.45416070e+00, -1.34557396e+00],\n",
       "       [-7.43912952e-01, -8.71104775e-01, -4.64391657e-01, ...,\n",
       "         7.35688190e-01,  1.45416070e+00, -2.35671837e-01],\n",
       "       [ 2.20347993e+00,  1.14796753e+00, -4.46841712e-01, ...,\n",
       "         7.35688190e-01, -6.87681906e-01, -1.50044403e+00],\n",
       "       ...,\n",
       "       [ 2.03505748e+00,  1.14796753e+00, -4.95362150e-01, ...,\n",
       "        -1.35927151e+00, -6.87681906e-01, -4.67976933e-01],\n",
       "       [-7.02231493e-02, -8.71104775e-01,  1.65728387e-04, ...,\n",
       "         7.35688190e-01,  1.45416070e+00, -1.16489222e+00],\n",
       "       [ 7.71889104e-01,  1.14796753e+00, -4.24130017e-01, ...,\n",
       "         7.35688190e-01,  1.45416070e+00,  2.03126678e-01]])"
      ]
     },
     "execution_count": 52,
     "metadata": {},
     "output_type": "execute_result"
    }
   ],
   "source": [
    "X_train_std, X_test_std, y_train_std, y_test_std = train_test_split(df_std_data,df_std_target,test_size=0.4,random_state=0)\n",
    "X_train_std"
   ]
  },
  {
   "cell_type": "code",
   "execution_count": 53,
   "metadata": {},
   "outputs": [
    {
     "name": "stdout",
     "output_type": "stream",
     "text": [
      "Avg accuracy: 0.8217\n"
     ]
    }
   ],
   "source": [
    "#K-Fold cross validation\n",
    "kf = model_selection.KFold(n_splits=5, random_state=None)\n",
    "\n",
    "model = LogisticRegression(solver= 'liblinear')\n",
    " \n",
    "result = cross_val_score(model , X_train_std, y_train_std, cv = kf)\n",
    " \n",
    "print(\"Avg accuracy: {}\".format(round(result.mean(),4)))\n",
    "#Average accuracy is 82.17%, which means the model can make accurate predictions"
   ]
  },
  {
   "cell_type": "code",
   "execution_count": 54,
   "metadata": {},
   "outputs": [
    {
     "data": {
      "text/plain": [
       "0.3040526845608758"
      ]
     },
     "execution_count": 54,
     "metadata": {},
     "output_type": "execute_result"
    }
   ],
   "source": [
    "#Leave-1 out cross validation\n",
    "cv = LeaveOneOut()\n",
    "\n",
    "model = LinearRegression()\n",
    "\n",
    "scores = cross_val_score(model, X_train_std, y_train_std, scoring='neg_mean_absolute_error',\n",
    "                         cv=cv, n_jobs=-1)\n",
    "\n",
    "mean(absolute(scores))\n",
    "#This is an excellent score as it means the model is close to predicting the actual observations"
   ]
  },
  {
   "cell_type": "code",
   "execution_count": 55,
   "metadata": {},
   "outputs": [],
   "source": [
    "#Now, we need to paramter optimisation"
   ]
  },
  {
   "cell_type": "code",
   "execution_count": 56,
   "metadata": {},
   "outputs": [],
   "source": [
    "neighbors = list(range(1,20))\n",
    "\n",
    "cv_scores = [ ]\n",
    "\n",
    "for K in neighbors:\n",
    "    knn = KNeighborsClassifier(n_neighbors = K)\n",
    "    scores = cross_val_score(knn,X_train_std,y_train_std,cv = 10,scoring =\n",
    "    \"accuracy\")\n",
    "    cv_scores.append(scores.mean())"
   ]
  },
  {
   "cell_type": "code",
   "execution_count": 57,
   "metadata": {},
   "outputs": [
    {
     "name": "stdout",
     "output_type": "stream",
     "text": [
      "The optimal no. of neighbors is 5\n"
     ]
    }
   ],
   "source": [
    "mse = [1-x for x in cv_scores]\n",
    "optimal_k = neighbors[mse.index(min(mse))]\n",
    "print(\"The optimal no. of neighbors is {}\".format(optimal_k))\n",
    "#We know the best value for neighbors, so we can now manually tune the other parameters, such as weights and p"
   ]
  },
  {
   "cell_type": "code",
   "execution_count": 58,
   "metadata": {},
   "outputs": [],
   "source": [
    "clf = KNeighborsClassifier(n_neighbors=5,weights=\"uniform\",p=2)\n",
    "fit = clf.fit(X_train_std,y_train_std)\n",
    "y_pre = fit.predict(X_test_std)\n",
    "#After manually tuning the other parameters, it is found out that these are the best parameters"
   ]
  },
  {
   "cell_type": "code",
   "execution_count": 59,
   "metadata": {},
   "outputs": [
    {
     "name": "stdout",
     "output_type": "stream",
     "text": [
      "[[78  4]\n",
      " [25 13]]\n"
     ]
    }
   ],
   "source": [
    "cm = confusion_matrix(y_test_std,y_pre)\n",
    "print(cm)"
   ]
  },
  {
   "cell_type": "code",
   "execution_count": 60,
   "metadata": {},
   "outputs": [
    {
     "name": "stdout",
     "output_type": "stream",
     "text": [
      "              precision    recall  f1-score   support\n",
      "\n",
      "         0.0       0.76      0.95      0.84        82\n",
      "         1.0       0.76      0.34      0.47        38\n",
      "\n",
      "    accuracy                           0.76       120\n",
      "   macro avg       0.76      0.65      0.66       120\n",
      "weighted avg       0.76      0.76      0.73       120\n",
      "\n"
     ]
    }
   ],
   "source": [
    "print(classification_report(y_test_std,y_pre))"
   ]
  },
  {
   "cell_type": "code",
   "execution_count": 61,
   "metadata": {},
   "outputs": [
    {
     "name": "stdout",
     "output_type": "stream",
     "text": [
      "0.7583\n"
     ]
    }
   ],
   "source": [
    "print(round(clf.score(X_test_std,y_test_std),4))"
   ]
  },
  {
   "cell_type": "code",
   "execution_count": 62,
   "metadata": {},
   "outputs": [],
   "source": [
    "#Let's compare the score without standarization"
   ]
  },
  {
   "cell_type": "code",
   "execution_count": 63,
   "metadata": {},
   "outputs": [],
   "source": [
    "data = clinical_records.drop('DEATH_EVENT',axis=1)\n",
    "target = clinical_records['DEATH_EVENT']\n",
    "\n",
    "X_train, X_test, y_train, y_test = train_test_split(data,target,test_size=0.4,random_state=0)"
   ]
  },
  {
   "cell_type": "code",
   "execution_count": 64,
   "metadata": {},
   "outputs": [],
   "source": [
    "neighbors = list(range(1,20))\n",
    "\n",
    "cv_scores = [ ]\n",
    "\n",
    "for K in neighbors:\n",
    "    knn = KNeighborsClassifier(n_neighbors = K)\n",
    "    scores = cross_val_score(knn,X_train,y_train,cv = 10,scoring =\n",
    "    \"accuracy\")\n",
    "    cv_scores.append(scores.mean())"
   ]
  },
  {
   "cell_type": "code",
   "execution_count": 65,
   "metadata": {},
   "outputs": [
    {
     "name": "stdout",
     "output_type": "stream",
     "text": [
      "The optimal no. of neighbors is 14\n"
     ]
    }
   ],
   "source": [
    "mse = [1-x for x in cv_scores]\n",
    "optimal_k = neighbors[mse.index(min(mse))]\n",
    "print(\"The optimal no. of neighbors is {}\".format(optimal_k))"
   ]
  },
  {
   "cell_type": "code",
   "execution_count": 66,
   "metadata": {},
   "outputs": [
    {
     "name": "stdout",
     "output_type": "stream",
     "text": [
      "Avg accuracy: 0.8271\n"
     ]
    }
   ],
   "source": [
    "kf = model_selection.KFold(n_splits=5, random_state=None)\n",
    "\n",
    "model = LogisticRegression(solver= 'liblinear')\n",
    " \n",
    "result = cross_val_score(model , X_train, y_train, cv = kf)\n",
    " \n",
    "print(\"Avg accuracy: {}\".format(round(result.mean(),4)))\n",
    "#The average accuracy is 83.29%, which is a good score and it means our model is efficient in making predicitions."
   ]
  },
  {
   "cell_type": "code",
   "execution_count": 67,
   "metadata": {},
   "outputs": [
    {
     "data": {
      "text/plain": [
       "0.30405268456086454"
      ]
     },
     "execution_count": 67,
     "metadata": {},
     "output_type": "execute_result"
    }
   ],
   "source": [
    "cv = LeaveOneOut()\n",
    "\n",
    "model = LinearRegression()\n",
    "\n",
    "scores = cross_val_score(model, X_train, y_train,scoring='neg_mean_absolute_error',\n",
    "                         cv=cv, n_jobs=-1)\n",
    "\n",
    "mean(absolute(scores))"
   ]
  },
  {
   "cell_type": "code",
   "execution_count": 68,
   "metadata": {},
   "outputs": [],
   "source": [
    "clf = KNeighborsClassifier(n_neighbors=14,weights=\"uniform\",p=1)\n",
    "fit = clf.fit(X_train,y_train)\n",
    "y_pre = fit.predict(X_test)"
   ]
  },
  {
   "cell_type": "code",
   "execution_count": 69,
   "metadata": {},
   "outputs": [
    {
     "name": "stdout",
     "output_type": "stream",
     "text": [
      "[[76  6]\n",
      " [37  1]]\n"
     ]
    }
   ],
   "source": [
    "cm = confusion_matrix(y_test,y_pre)\n",
    "print(cm)"
   ]
  },
  {
   "cell_type": "code",
   "execution_count": 70,
   "metadata": {},
   "outputs": [
    {
     "name": "stdout",
     "output_type": "stream",
     "text": [
      "              precision    recall  f1-score   support\n",
      "\n",
      "           0       0.67      0.93      0.78        82\n",
      "           1       0.14      0.03      0.04        38\n",
      "\n",
      "    accuracy                           0.64       120\n",
      "   macro avg       0.41      0.48      0.41       120\n",
      "weighted avg       0.50      0.64      0.55       120\n",
      "\n"
     ]
    }
   ],
   "source": [
    "print(classification_report(y_test,y_pre))"
   ]
  },
  {
   "cell_type": "code",
   "execution_count": 71,
   "metadata": {},
   "outputs": [
    {
     "name": "stdout",
     "output_type": "stream",
     "text": [
      "0.6417\n"
     ]
    }
   ],
   "source": [
    "print(round(clf.score(X_test,y_test),4))"
   ]
  },
  {
   "cell_type": "code",
   "execution_count": 72,
   "metadata": {},
   "outputs": [],
   "source": [
    "#As it can be seen, standarizing did help improve mean accuracy. However, the accuracy for prediciting deaths did not increase\n",
    "#as expected. Surprising fact is the K-folds score is higher without standarization than the model with standarization.\n",
    "#The absolute mean error remained almost same for both models. \n",
    "#The dataset which is not standardised does a poor job in prediciting the deaths, though it accurately predicts survival.\n",
    "#Therefore, the dataset which has independent features standardised is the best for making predicitions. "
   ]
  },
  {
   "cell_type": "code",
   "execution_count": 73,
   "metadata": {},
   "outputs": [],
   "source": [
    "#DecisionTree"
   ]
  },
  {
   "cell_type": "code",
   "execution_count": 75,
   "metadata": {},
   "outputs": [],
   "source": [
    "from sklearn.datasets import load_breast_cancer"
   ]
  },
  {
   "cell_type": "code",
   "execution_count": 76,
   "metadata": {},
   "outputs": [],
   "source": [
    "breast_cancer = load_breast_cancer()"
   ]
  },
  {
   "cell_type": "code",
   "execution_count": 77,
   "metadata": {},
   "outputs": [],
   "source": [
    "from sklearn.tree import DecisionTreeClassifier"
   ]
  },
  {
   "cell_type": "code",
   "execution_count": 78,
   "metadata": {},
   "outputs": [],
   "source": [
    "from sklearn.model_selection import train_test_split"
   ]
  },
  {
   "cell_type": "code",
   "execution_count": 101,
   "metadata": {},
   "outputs": [],
   "source": [
    "X_train, X_test, Y_train, Y_test = train_test_split(data, target, random_state = 0)"
   ]
  },
  {
   "cell_type": "code",
   "execution_count": 102,
   "metadata": {},
   "outputs": [],
   "source": [
    "clf = DecisionTreeClassifier()"
   ]
  },
  {
   "cell_type": "code",
   "execution_count": 103,
   "metadata": {},
   "outputs": [],
   "source": [
    "fit = clf.fit(X_train,Y_train)"
   ]
  },
  {
   "cell_type": "code",
   "execution_count": 104,
   "metadata": {},
   "outputs": [],
   "source": [
    "Y_pre = fit.predict(X_test)"
   ]
  },
  {
   "cell_type": "code",
   "execution_count": 105,
   "metadata": {},
   "outputs": [],
   "source": [
    "from sklearn.metrics import confusion_matrix"
   ]
  },
  {
   "cell_type": "code",
   "execution_count": 106,
   "metadata": {},
   "outputs": [],
   "source": [
    "cm = confusion_matrix(Y_test,Y_pre)"
   ]
  },
  {
   "cell_type": "code",
   "execution_count": 107,
   "metadata": {},
   "outputs": [
    {
     "name": "stdout",
     "output_type": "stream",
     "text": [
      "[[44  4]\n",
      " [11 16]]\n"
     ]
    }
   ],
   "source": [
    "print(cm)"
   ]
  },
  {
   "cell_type": "code",
   "execution_count": 108,
   "metadata": {},
   "outputs": [],
   "source": [
    "from sklearn.metrics import classification_report"
   ]
  },
  {
   "cell_type": "code",
   "execution_count": 109,
   "metadata": {},
   "outputs": [
    {
     "name": "stdout",
     "output_type": "stream",
     "text": [
      "              precision    recall  f1-score   support\n",
      "\n",
      "           0       0.80      0.92      0.85        48\n",
      "           1       0.80      0.59      0.68        27\n",
      "\n",
      "    accuracy                           0.80        75\n",
      "   macro avg       0.80      0.75      0.77        75\n",
      "weighted avg       0.80      0.80      0.79        75\n",
      "\n"
     ]
    }
   ],
   "source": [
    "print(classification_report(Y_test, Y_pre))"
   ]
  },
  {
   "cell_type": "code",
   "execution_count": 110,
   "metadata": {},
   "outputs": [],
   "source": [
    "from sklearn import tree "
   ]
  },
  {
   "cell_type": "code",
   "execution_count": null,
   "metadata": {},
   "outputs": [],
   "source": []
  },
  {
   "cell_type": "code",
   "execution_count": 111,
   "metadata": {},
   "outputs": [],
   "source": [
    "with open(\"breast_cancer.dot\",'w') as f:\n",
    "    f = tree.export_graphviz(clf,out_file =f,feature_names=data.columns,\n",
    "                            filled = True,rounded=True,special_characters=True)"
   ]
  },
  {
   "cell_type": "code",
   "execution_count": null,
   "metadata": {},
   "outputs": [],
   "source": []
  }
 ],
 "metadata": {
  "kernelspec": {
   "display_name": "Python 3",
   "language": "python",
   "name": "python3"
  },
  "language_info": {
   "codemirror_mode": {
    "name": "ipython",
    "version": 3
   },
   "file_extension": ".py",
   "mimetype": "text/x-python",
   "name": "python",
   "nbconvert_exporter": "python",
   "pygments_lexer": "ipython3",
   "version": "3.8.5"
  }
 },
 "nbformat": 4,
 "nbformat_minor": 4
}
